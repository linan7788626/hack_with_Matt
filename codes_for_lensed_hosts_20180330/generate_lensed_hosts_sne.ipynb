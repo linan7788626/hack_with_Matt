{
 "cells": [
  {
   "cell_type": "code",
   "execution_count": 1,
   "metadata": {},
   "outputs": [],
   "source": [
    "%matplotlib inline\n",
    "%config InlineBackend.figure_format = 'retina'\n",
    "\n",
    "import numpy as np\n",
    "import pylab as pl\n",
    "import subprocess as sp\n",
    "import astropy.io.fits as pyfits\n",
    "import pandas as pd\n",
    "\n",
    "import om10_lensing_equations as ole"
   ]
  },
  {
   "cell_type": "code",
   "execution_count": 2,
   "metadata": {},
   "outputs": [],
   "source": [
    "def load_in_data_sne():\n",
    "\n",
    "    sne_host_bulge = pd.read_csv(\"./data/sne_host_bulge.txt\")\n",
    "    sne_host_disk = pd.read_csv(\"./data/sne_host_disk.txt\")\n",
    "    \n",
    "    idx = sne_host_bulge['image_number'] == 0\n",
    "    shb_purged = sne_host_bulge[:][idx]\n",
    "    shd_purged = sne_host_disk[:][idx]\n",
    "        \n",
    "    sne_lens_cats = pd.read_csv(\"./data/dc2_sne_cat.csv\")\n",
    "    idx = sne_lens_cats['imno'] == 0\n",
    "    \n",
    "    slc_purged = sne_lens_cats[:][idx]\n",
    "\n",
    "    return slc_purged, shb_purged, shd_purged\n",
    "\n",
    "\n",
    "def create_cats_sne(index, hdu_list, ahb_list, _list):\n",
    "        \n",
    "    twinkles_ID = ahb_list['twinkles_system'][index]\n",
    "#     Index([u't0', u'x', u'y', u'sigma', u'gamma', u'e', u'theta_e', u'theta_gamma',\n",
    "#        u'zs', u'zl', u'snx', u'sny', u'MB', u'mu', u'sysno', u'imno', u'mag',\n",
    "#        u'x0', u'x1', u'c', u'twinkles_sysno', u'bulge_magnorm', u'r_eff',\n",
    "#        u'lens_sed', u't_start'],\n",
    "        \n",
    "    idx = hdu_list['twinkles_sysno'] == twinkles_ID\n",
    "    lid = hdu_list['sysno'][idx].values[0]\n",
    "    xl1 = 0.0\n",
    "    xl2 = 0.0\n",
    "    vd = hdu_list['sigma'][idx].values[0]   # needed from OM10\n",
    "    zd = hdu_list['zl'][idx].values[0]\n",
    "    ql  = 1.0 - hdu_list['e'][idx].values[0]\n",
    "    phi= hdu_list['theta_e'][idx].values[0]\n",
    "\n",
    "    ys1 = hdu_list['snx'][idx].values[0]    # needed more discussion\n",
    "    ys2 = hdu_list['sny'][idx].values[0]      # needed more discussion\n",
    "\n",
    "    ext_shr = hdu_list['gamma'][idx].values[0]\n",
    "    ext_phi = hdu_list['theta_gamma'][idx].values[0]\n",
    "\n",
    "#     ximg = hdu_list[1].data['XIMG'][idx][0]\n",
    "#     yimg = hdu_list[1].data['YIMG'][idx][0]\n",
    "\n",
    "    #----------------------------------------------------------------------------\n",
    "    lens_cat = {'xl1'        : xl1,\n",
    "                'xl2'        : xl2,\n",
    "                'ql'         : ql,\n",
    "                'vd'         : vd,\n",
    "                'phl'        : phi,\n",
    "                'gamma'      : ext_shr,\n",
    "                'phg'        : ext_phi,\n",
    "                'zl'         : zd,\n",
    "#                 'ximg'       : ximg,\n",
    "#                 'yimg'       : yimg,\n",
    "                'twinklesid' : twinkles_ID,\n",
    "                'lensid'     : lid,\n",
    "                'index'      : index}\n",
    "    \n",
    "    #----------------------------------------------------------------------------\n",
    "    mag_src_b = ahb_list['phosimMagNorm'][index]\n",
    "    qs_b = ahb_list['minorAxis'][index]/ahb_list['majorAxis'][index]\n",
    "    Reff_src_b = np.sqrt(ahb_list['minorAxis'][index]*ahb_list['majorAxis'][index])\n",
    "    phs_b = ahb_list['positionAngle'][index]\n",
    "    ns_b = ahb_list['sindex'][index]\n",
    "    zs_b = ahb_list['redshift'][index]\n",
    "    sed_src_b = ahb_list['sedFilepath'][index]\n",
    "    \n",
    "    srcsP_bulge = {'ys1'          : ys1,\n",
    "                   'ys2'          : ys2,\n",
    "                   'mag_src'      : mag_src_b,\n",
    "                   'Reff_src'     : Reff_src_b,\n",
    "                   'qs'           : qs_b,\n",
    "                   'phs'          : phs_b,\n",
    "                   'ns'           : ns_b,\n",
    "                   'zs'           : zs_b,\n",
    "                   'sed_src'      : sed_src_b,                         \n",
    "                   'components'   : 'bulge'}\n",
    "    \n",
    "    #----------------------------------------------------------------------------\n",
    "    mag_src_d = _list['phosimMagNorm'][index]\n",
    "    qs_d = _list['minorAxis'][index]/_list['majorAxis'][index]\n",
    "    Reff_src_d = np.sqrt(_list['minorAxis'][index]*_list['majorAxis'][index])\n",
    "    phs_d = _list['positionAngle'][index]\n",
    "    ns_d = _list['sindex'][index]\n",
    "    zs_d = _list['redshift'][index]\n",
    "    sed_src_d = _list['sedFilepath'][index]\n",
    "\n",
    "    srcsP_disk = {'ys1'          : ys1,\n",
    "                  'ys2'          : ys2,\n",
    "                  'mag_src'      : mag_src_d,\n",
    "                  'Reff_src'     : Reff_src_d,\n",
    "                  'qs'           : qs_d,\n",
    "                  'phs'          : phs_d,\n",
    "                  'ns'           : ns_d,\n",
    "                  'zs'           : zs_d,\n",
    "                  'sed_src'      : sed_src_d,\n",
    "                  'components'   : 'disk'}\n",
    "    \n",
    "    #----------------------------------------------------------------------------\n",
    "\n",
    "    return lens_cat, srcsP_bulge, srcsP_disk\n",
    "\n",
    "\n",
    "def lensed_sersic_2d(xi1, xi2, yi1, yi2, source_cat, lens_cat):\n",
    "    #----------------------------------------------------------------------\n",
    "    ysc1     = source_cat['ys1']        # x position of the source, arcseconds\n",
    "    ysc2     = source_cat['ys2']        # y position of the source, arcseconds\n",
    "    mag_tot  = source_cat['mag_src']    # total mitude of the source\n",
    "    Reff_arc = source_cat['Reff_src']   # Effective Radius of the source, arcseconds\n",
    "    qs       = source_cat['qs']         # axis ratio of the source, b/a\n",
    "    phs      = source_cat['phs']        # orientation of the source, degree\n",
    "    ndex     = source_cat['ns']         # index of the source\n",
    "\n",
    "    #----------------------------------------------------------------------\n",
    "    g_limage = ole.sersic_2d(yi1,yi2,ysc1,ysc2,Reff_arc,qs,phs,ndex)\n",
    "    g_source = ole.sersic_2d(xi1,xi2,ysc1,ysc2,Reff_arc,qs,phs,ndex)\n",
    "\n",
    "    mag_lensed = mag_tot - 2.5*np.log(np.sum(g_limage)/np.sum(g_source))\n",
    "\n",
    "    return mag_lensed, g_limage\n",
    "\n",
    "\n",
    "def generate_lensed_host(xi1, xi2, lens_P, srcP_b, srcP_d):\n",
    "    dsx = 0.01\n",
    "    xlc1 = lens_P['xl1']                # x position of the lens, arcseconds\n",
    "    xlc2 = lens_P['xl2']                # y position of the lens, arcseconds\n",
    "    rlc  = 0.0                          # core size of Non-singular Isothermal Ellipsoid\n",
    "    vd   = lens_P['vd']                 # velocity dispersion of the lens\n",
    "    zl   = lens_P['zl']                 # redshift of the lens\n",
    "    zs   = srcP_b['zs']                 # redshift of the source\n",
    "    rle  = ole.re_sv(vd, zl, zs)        # Einstein radius of lens, arcseconds.\n",
    "    ql   = lens_P['ql']                 # axis ratio b/a\n",
    "    le   = ole.e2le(1.0 - ql)           # scale factor due to projection of ellpsoid\n",
    "    phl  = lens_P['phl']                # position angle of the lens, degree\n",
    "    eshr = lens_P['gamma']              # external shear\n",
    "    eang = lens_P['phg']                # position angle of external shear\n",
    "    ekpa = 0.0                          # external convergence\n",
    "\n",
    "    ximg, yimg = cross_check_with_lensed_sne(lens_P['twinklesid'])\n",
    "\n",
    "    #----------------------------------------------------------------------\n",
    "    ai1, ai2 = ole.alphas_sie(xlc1, xlc2, phl, ql, rle, le, eshr, eang, ekpa, xi1, xi2)\n",
    "\n",
    "    yi1 = xi1 - ai1\n",
    "    yi2 = xi2 - ai2\n",
    "    #----------------------------------------------------------------------------\n",
    "\n",
    "    lensed_mag_b, lensed_image_b = lensed_sersic_2d(xi1,xi2,yi1,yi2,srcP_b,lens_P)\n",
    "\n",
    "    fits_limg_b = \"./outputs/sne_lensed_bulges/\" + str(lens_P['index']) \\\n",
    "              + \"_\" + str(srcP_b['components']) + \"_\" + str(srcP_b['sed_src'].split('/')[0]) \\\n",
    "              + \"_\" + str(srcP_d['sed_src'].split('/')[1]) \\\n",
    "              + \"_\" + str(srcP_b['zs']) + \"_\" + str(srcP_b['mag_src'])\\\n",
    "              + \"_\" + str(lensed_mag_b) + \"_\" + str(dsx) + \".fits\"\n",
    "\n",
    "    pyfits.writeto(fits_limg_b, lensed_image_b.astype(\"float32\"), overwrite=True)\n",
    "\n",
    "    cmd_b = \"bzip2 -f \" + fits_limg_b\n",
    "    sp.call(cmd_b, shell=True)\n",
    "    \n",
    "    pl.figure(figsize=(8,8))\n",
    "    pl.contourf(xi1,xi2,lensed_image_b)\n",
    "    pl.plot(ximg[np.nonzero(ximg)], yimg[np.nonzero(yimg)], 'bx')\n",
    "    #----------------------------------------------------------------------------\n",
    "\n",
    "    lensed_mag_d, lensed_image_d = lensed_sersic_2d(xi1,xi2,yi1,yi2,srcP_d,lens_P)\n",
    "\n",
    "    fits_limg_d = \"./outputs/sne_lensed_disks/\" + str(lens_P['index']) \\\n",
    "              + \"_\" + str(srcP_d['components']) + \"_\" + str(srcP_d['sed_src'].split('/')[0]) \\\n",
    "              + \"_\" + str(srcP_d['sed_src'].split('/')[1]) \\\n",
    "              + \"_\" + str(srcP_d['zs']) + \"_\" + str(srcP_d['mag_src']) \\\n",
    "              + \"_\" + str(lensed_mag_d) + \"_\" + str(dsx) + \".fits\"\n",
    "\n",
    "    pyfits.writeto(fits_limg_d, lensed_image_d.astype(\"float32\"), overwrite=True)\n",
    "\n",
    "    cmd_d = \"bzip2 -f \" + fits_limg_d\n",
    "    sp.call(cmd_d, shell=True)\n",
    "    \n",
    "    #----------------------------------------------------------------------------\n",
    "\n",
    "    pl.figure(figsize=(8,8))\n",
    "    pl.contourf(xi1,xi2,lensed_image_d)\n",
    "    pl.plot(ximg[np.nonzero(ximg)], yimg[np.nonzero(yimg)], 'bx')\n",
    "    \n",
    "    return 0\n",
    "\n",
    "\n",
    "def cross_check_with_lensed_sne(twinkles_ID):\n",
    "    # stack the lensed hosts and lensed points to verify the calculation\n",
    "    # make some plots.\n",
    "    sne_lens_cats = pd.read_csv(\"./data/dc2_sne_cat.csv\")\n",
    "    ximgs = np.zeros((5))\n",
    "    yimgs = np.zeros((5))\n",
    "        \n",
    "    idx = sne_lens_cats['twinkles_sysno'] == twinkles_ID\n",
    "        \n",
    "    imgnos = sne_lens_cats['imno'][idx]\n",
    "    nimgs = len(sne_lens_cats['imno'][idx])\n",
    "    \n",
    "    ximgs[:nimgs] = sne_lens_cats['x'][idx].values\n",
    "    yimgs[:nimgs] = sne_lens_cats['y'][idx].values\n",
    "    \n",
    "    return ximgs, yimgs"
   ]
  },
  {
   "cell_type": "code",
   "execution_count": 3,
   "metadata": {},
   "outputs": [
    {
     "data": {
      "application/vnd.jupyter.widget-view+json": {
       "model_id": "5303c1124ab34afc8fe033c510884954",
       "version_major": 2,
       "version_minor": 0
      },
      "text/html": [
       "<p>Failed to display Jupyter Widget of type <code>HBox</code>.</p>\n",
       "<p>\n",
       "  If you're reading this message in the Jupyter Notebook or JupyterLab Notebook, it may mean\n",
       "  that the widgets JavaScript is still loading. If this message persists, it\n",
       "  likely means that the widgets JavaScript library is either not installed or\n",
       "  not enabled. See the <a href=\"https://ipywidgets.readthedocs.io/en/stable/user_install.html\">Jupyter\n",
       "  Widgets Documentation</a> for setup instructions.\n",
       "</p>\n",
       "<p>\n",
       "  If you're reading this message in another frontend (for example, a static\n",
       "  rendering on GitHub or <a href=\"https://nbviewer.jupyter.org/\">NBViewer</a>),\n",
       "  it may mean that your frontend doesn't currently support widgets.\n",
       "</p>\n"
      ],
      "text/plain": [
       "HBox(children=(IntProgress(value=0, description=u'Main Loop', max=2), HTML(value=u'')))"
      ]
     },
     "metadata": {},
     "output_type": "display_data"
    },
    {
     "name": "stdout",
     "output_type": "stream",
     "text": [
      "2*Re =  0.43150482375739946\n",
      "Dimg =  0.41062865219075984\n",
      "2*Re =  0.7138015400980274\n",
      "Dimg =  0.704370108678669\n",
      "\n"
     ]
    },
    {
     "data": {
      "image/png": "[encoded data removed]",
      "text/plain": [
       "<Figure size 576x576 with 1 Axes>"
      ]
     },
     "metadata": {
      "image/png": {
       "height": 467,
       "width": 484
      }
     },
     "output_type": "display_data"
    },
    {
     "data": {
      "image/png": "[encoded data removed]",
      "text/plain": [
       "<Figure size 576x576 with 1 Axes>"
      ]
     },
     "metadata": {
      "image/png": {
       "height": 467,
       "width": 484
      }
     },
     "output_type": "display_data"
    },
    {
     "data": {
      "image/png": "[encoded data removed]",
      "text/plain": [
       "<Figure size 576x576 with 1 Axes>"
      ]
     },
     "metadata": {
      "image/png": {
       "height": 467,
       "width": 484
      }
     },
     "output_type": "display_data"
    },
    {
     "data": {
      "image/png": "[encoded data removed]",
      "text/plain": [
       "<Figure size 576x576 with 1 Axes>"
      ]
     },
     "metadata": {
      "image/png": {
       "height": 467,
       "width": 484
      }
     },
     "output_type": "display_data"
    }
   ],
   "source": [
    "if __name__ == '__main__':\n",
    "\n",
    "    from tqdm import tqdm_notebook\n",
    "\n",
    "    dsx = 0.01  # pixel size per side, arcseconds\n",
    "    nnn = 1000  # number of pixels per side\n",
    "    xi1, xi2 = ole.make_r_coor(nnn, dsx)\n",
    "\n",
    "    hdulist, shb, shd = load_in_data_sne()\n",
    "            \n",
    "    for i in tqdm_notebook(shb.index[:10], desc=\"Main Loop\"):\n",
    "        lensP, srcPb, srcPd = create_cats_sne(i, hdulist, shb, shd)\n",
    "        generate_lensed_host(xi1, xi2, lensP, srcPb, srcPd)"
   ]
  },
  {
   "cell_type": "code",
   "execution_count": null,
   "metadata": {},
   "outputs": [],
   "source": []
  },
  {
   "cell_type": "code",
   "execution_count": null,
   "metadata": {},
   "outputs": [],
   "source": []
  }
 ],
 "metadata": {
  "kernelspec": {
   "display_name": "Python 2",
   "language": "python",
   "name": "python2"
  },
  "language_info": {
   "codemirror_mode": {
    "name": "ipython",
    "version": 2
   },
   "file_extension": ".py",
   "mimetype": "text/x-python",
   "name": "python",
   "nbconvert_exporter": "python",
   "pygments_lexer": "ipython2",
   "version": "2.7.14"
  }
 },
 "nbformat": 4,
 "nbformat_minor": 2
}
